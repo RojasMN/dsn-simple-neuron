{
 "cells": [
  {
   "cell_type": "code",
   "execution_count": 1,
   "id": "804886da",
   "metadata": {},
   "outputs": [
    {
     "data": {
      "text/html": [
       "<style>\n",
       "    body {\n",
       "        --vscode-font-family: \"Verdana\"\n",
       "    }\n",
       "</style>\n"
      ],
      "text/plain": [
       "<IPython.core.display.HTML object>"
      ]
     },
     "metadata": {},
     "output_type": "display_data"
    }
   ],
   "source": [
    "%%HTML\n",
    "<style>\n",
    "    body {\n",
    "        --vscode-font-family: \"Verdana\"\n",
    "    }\n",
    "</style>"
   ]
  },
  {
   "cell_type": "markdown",
   "id": "dbf757ab",
   "metadata": {},
   "source": [
    "#### ***DSN Models***\n",
    "---\n",
    "Here, we will aim to reproduce some of the simulations shown in Chapter 8 (Simple Models) of the book *'Dynamical Systems in Neuroscience'*.\n",
    "\n",
    "WORK IN PROGRESS..."
   ]
  }
 ],
 "metadata": {
  "kernelspec": {
   "display_name": "nrn_venv",
   "language": "python",
   "name": "python3"
  },
  "language_info": {
   "codemirror_mode": {
    "name": "ipython",
    "version": 3
   },
   "file_extension": ".py",
   "mimetype": "text/x-python",
   "name": "python",
   "nbconvert_exporter": "python",
   "pygments_lexer": "ipython3",
   "version": "3.11.8"
  }
 },
 "nbformat": 4,
 "nbformat_minor": 5
}
